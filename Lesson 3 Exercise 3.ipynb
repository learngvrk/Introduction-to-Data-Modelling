{
 "cells": [
  {
   "cell_type": "markdown",
   "metadata": {},
   "source": [
    "## Lesson 3 Exercise 3: Focus on the WHERE clause used to query a Composite Key"
   ]
  },
  {
   "cell_type": "markdown",
   "metadata": {},
   "source": [
    "### Walk through the basics of creating a table in Apache Cassandra, inserting rows of data, and doing a simple CQL query to validate the information. You will practice coming up with queries which can be used using the WHERE clause, which field can be used as part of your WHERE clause and which of them you CANNOT, which is an encouraged practice with Apache Cassandra. "
   ]
  },
  {
   "cell_type": "code",
   "execution_count": 100,
   "metadata": {},
   "outputs": [],
   "source": [
    "# Import Cassandra driver to perform operations on Cassandra DB\n",
    "import cassandra"
   ]
  },
  {
   "cell_type": "code",
   "execution_count": 101,
   "metadata": {},
   "outputs": [],
   "source": [
    "# Import Pandas to import data from excel sheet\n",
    "import pandas as pd"
   ]
  },
  {
   "cell_type": "markdown",
   "metadata": {},
   "source": [
    "### Create a connection to the Cluster (equivalent to DB server in SQL)"
   ]
  },
  {
   "cell_type": "code",
   "execution_count": 102,
   "metadata": {},
   "outputs": [],
   "source": [
    "from cassandra.cluster import Cluster\n",
    "try:\n",
    "    cluster = Cluster(['127.0.0.1'])\n",
    "    session = cluster.connect()\n",
    "except Exception as e:\n",
    "    print(e)"
   ]
  },
  {
   "cell_type": "markdown",
   "metadata": {},
   "source": [
    "### Create a keyspace we have to work with (equivalent to a Database in SQL)"
   ]
  },
  {
   "cell_type": "code",
   "execution_count": 103,
   "metadata": {},
   "outputs": [],
   "source": [
    "try:\n",
    "    session.execute(\"\"\"\n",
    "                    CREATE KEYSPACE IF NOT EXISTS udacity\n",
    "                    WITH REPLICATION =\n",
    "                    { 'class': 'SimpleStrategy', 'replication_factor': 1 } \"\"\")\n",
    "except Exception as e:\n",
    "    print(e)"
   ]
  },
  {
   "cell_type": "markdown",
   "metadata": {},
   "source": [
    "### Connect to Keyspace. Comapre this with how we create a new session in Postgres"
   ]
  },
  {
   "cell_type": "code",
   "execution_count": 104,
   "metadata": {},
   "outputs": [],
   "source": [
    "try:\n",
    "    session.set_keyspace('udacity')\n",
    "except Exception as e:\n",
    "    print(e)"
   ]
  },
  {
   "cell_type": "markdown",
   "metadata": {},
   "source": [
    "### We would like to create a New OLAP table to store the Music Library of albums"
   ]
  },
  {
   "cell_type": "markdown",
   "metadata": {},
   "source": [
    "<b> The Table contains the following columns, </b>\n",
    "<ul>\n",
    "    <li> 'Year' column as the <b>Primary key</b>. </li>\n",
    "    <li> 'Month' and 'City' (Where Released) as the <b>Clustering columns</b>. </li>\n",
    "    <li> 'Artist Name' and 'Album Name' as the other data columns. </li>\n",
    "</ul>\n",
    "</b>"
   ]
  },
  {
   "cell_type": "markdown",
   "metadata": {},
   "source": [
    "![music_library](image5.png)"
   ]
  },
  {
   "cell_type": "markdown",
   "metadata": {},
   "source": [
    "#### The following are the queries which the Business would like to use to analyze data.\n",
    "\n",
    "#### 1. Give every album in the music library that was released in the given Year\n",
    "`SELECT * FROM music_library WHERE year = 1970`\n",
    "\n",
    "#### 2. Give every album in the music library that was released in the given Year and Month\n",
    "`SELECT * FROM music_library WHERE year = 1970 AND month = 'July'`\n",
    "\n",
    "#### 3. Give every album in the music library that was released in the given Year and Artist Name\n",
    "`SELECT * FROM music_library WHERE year = 1970 AND artist_name = 'The Beatles'`"
   ]
  },
  {
   "cell_type": "markdown",
   "metadata": {},
   "source": [
    "### DROP THE MUSIC LIBRARY table IF EXISTS"
   ]
  },
  {
   "cell_type": "code",
   "execution_count": 105,
   "metadata": {},
   "outputs": [],
   "source": [
    "dropTable('music_library')"
   ]
  },
  {
   "cell_type": "markdown",
   "metadata": {},
   "source": [
    "### CREATE TABLE IN KEYSPACE: udacity"
   ]
  },
  {
   "cell_type": "code",
   "execution_count": 34,
   "metadata": {},
   "outputs": [],
   "source": [
    "try:\n",
    "    query = \"\"\" CREATE TABLE IF NOT EXISTS music_library\n",
    "                (year int, month varchar, city varchar, artist_name varchar, album_name text, \n",
    "                PRIMARY KEY(year, month, city)) \"\"\"\n",
    "    \n",
    "    # CREATE TABLE MUSIC LIBRARY \n",
    "    session.execute(query)\n",
    "    \n",
    "except Exception as e:\n",
    "    print(e)"
   ]
  },
  {
   "cell_type": "markdown",
   "metadata": {},
   "source": [
    "### IMPORT THE EXCEL FILE with DATA (.xlsx)"
   ]
  },
  {
   "cell_type": "code",
   "execution_count": 35,
   "metadata": {},
   "outputs": [
    {
     "data": {
      "text/html": [
       "<div>\n",
       "<style scoped>\n",
       "    .dataframe tbody tr th:only-of-type {\n",
       "        vertical-align: middle;\n",
       "    }\n",
       "\n",
       "    .dataframe tbody tr th {\n",
       "        vertical-align: top;\n",
       "    }\n",
       "\n",
       "    .dataframe thead th {\n",
       "        text-align: right;\n",
       "    }\n",
       "</style>\n",
       "<table border=\"1\" class=\"dataframe\">\n",
       "  <thead>\n",
       "    <tr style=\"text-align: right;\">\n",
       "      <th></th>\n",
       "      <th>Year</th>\n",
       "      <th>Month</th>\n",
       "      <th>City</th>\n",
       "      <th>Artist_Name</th>\n",
       "      <th>Album_Name</th>\n",
       "    </tr>\n",
       "  </thead>\n",
       "  <tbody>\n",
       "    <tr>\n",
       "      <th>0</th>\n",
       "      <td>1965</td>\n",
       "      <td>March</td>\n",
       "      <td>Oxford</td>\n",
       "      <td>The Beatles</td>\n",
       "      <td>Rubber Soul</td>\n",
       "    </tr>\n",
       "    <tr>\n",
       "      <th>1</th>\n",
       "      <td>1970</td>\n",
       "      <td>August</td>\n",
       "      <td>Liverpool</td>\n",
       "      <td>The Beatles</td>\n",
       "      <td>Let it Be</td>\n",
       "    </tr>\n",
       "    <tr>\n",
       "      <th>2</th>\n",
       "      <td>1966</td>\n",
       "      <td>June</td>\n",
       "      <td>Los Angeles</td>\n",
       "      <td>The Monkees</td>\n",
       "      <td>The Monkees</td>\n",
       "    </tr>\n",
       "    <tr>\n",
       "      <th>3</th>\n",
       "      <td>1970</td>\n",
       "      <td>July</td>\n",
       "      <td>San Diego</td>\n",
       "      <td>The Carpenters</td>\n",
       "      <td>Close To You</td>\n",
       "    </tr>\n",
       "    <tr>\n",
       "      <th>4</th>\n",
       "      <td>1964</td>\n",
       "      <td>January</td>\n",
       "      <td>London</td>\n",
       "      <td>The Beatles</td>\n",
       "      <td>Beatles For Sale</td>\n",
       "    </tr>\n",
       "    <tr>\n",
       "      <th>5</th>\n",
       "      <td>1970</td>\n",
       "      <td>July</td>\n",
       "      <td>Cleveland</td>\n",
       "      <td>Gonugunta's</td>\n",
       "      <td>Jai Srimanarayana</td>\n",
       "    </tr>\n",
       "  </tbody>\n",
       "</table>\n",
       "</div>"
      ],
      "text/plain": [
       "   Year    Month         City     Artist_Name         Album_Name\n",
       "0  1965    March       Oxford     The Beatles        Rubber Soul\n",
       "1  1970   August    Liverpool     The Beatles          Let it Be\n",
       "2  1966     June  Los Angeles     The Monkees        The Monkees\n",
       "3  1970     July    San Diego  The Carpenters       Close To You\n",
       "4  1964  January       London     The Beatles   Beatles For Sale\n",
       "5  1970     July    Cleveland     Gonugunta's  Jai Srimanarayana"
      ]
     },
     "execution_count": 35,
     "metadata": {},
     "output_type": "execute_result"
    }
   ],
   "source": [
    "df = pd.read_excel('Tables.xlsx', sheet_name='data', index_col=None)\n",
    "df"
   ]
  },
  {
   "cell_type": "markdown",
   "metadata": {},
   "source": [
    "### DDL STATEMENT FOR CREATING THE TABLE"
   ]
  },
  {
   "cell_type": "code",
   "execution_count": 36,
   "metadata": {},
   "outputs": [],
   "source": [
    "query = \"INSERT INTO music_library (year, month, city, artist_name, album_name)\"\n",
    "query = query + \" VALUES (%s, %s, %s, %s, %s)\""
   ]
  },
  {
   "cell_type": "markdown",
   "metadata": {},
   "source": [
    "### INSERT DATA INTO THE TABLES IN KEYSPACE: udacity"
   ]
  },
  {
   "cell_type": "code",
   "execution_count": 54,
   "metadata": {},
   "outputs": [],
   "source": [
    "# Extract Data from the DataFrame to Insert data to the Table\n",
    "try:\n",
    "    for index, row in df.iterrows():\n",
    "        session.execute(query, list(row.values))\n",
    "except Exception as e:\n",
    "    print(e)"
   ]
  },
  {
   "cell_type": "markdown",
   "metadata": {},
   "source": [
    "### INSERT DATA USING INDIVIDUAL INSERT STATEMENTS"
   ]
  },
  {
   "cell_type": "markdown",
   "metadata": {},
   "source": [
    "try:\n",
    "    session.execute(query, (1965, \"March\", \"Oxford\", \"The Beatles\", \"Rubber Soul\"))\n",
    "except Exception as e:\n",
    "    print(e)\n",
    "    \n",
    "try:\n",
    "    session.execute(query, (1970, \"August\", \"Liverpool\", \"The Beatles\", \"Let it Be\"))\n",
    "except Exception as e:\n",
    "    print(e)\n",
    "    \n",
    "try:\n",
    "    session.execute(query, (1964, \"January\", \"London\", \"The Beatles\", \"Beatles for Sale\"))\n",
    "except Exception as e:\n",
    "    print(e)\n",
    "\n",
    "try:\n",
    "    session.execute(query, (1966, \"June\", \"Los Angeles\", \"The Monkees\", \"The Monkees\"))\n",
    "except Exception as e:\n",
    "    print(e)\n",
    "\n",
    "try:\n",
    "    session.execute(query, (1970, \"July\", \"San Diego\", \"The Carpenters\", \"Close To You\"))\n",
    "except Exception as e:\n",
    "    print(e)\n",
    "    \n",
    "try:\n",
    "    session.execute(query, (1970, \"July\", \"Cleveland\", \"Gonugunta's\", \"Jai Srimanarayana\"))\n",
    "except Exception as e:\n",
    "    print(e)"
   ]
  },
  {
   "cell_type": "markdown",
   "metadata": {},
   "source": [
    "### Validate the Data Model of the Music Library table with WHERE clause = Primary Key"
   ]
  },
  {
   "cell_type": "code",
   "execution_count": 89,
   "metadata": {},
   "outputs": [
    {
     "name": "stdout",
     "output_type": "stream",
     "text": [
      "   year   month       city         album_name     artist_name\n",
      "0  1970  August  Liverpool          Let it Be     The Beatles\n",
      "1  1970    July  Cleveland  Jai Srimanarayana     Gonugunta's\n",
      "2  1970    July  San Diego       Close To You  The Carpenters\n"
     ]
    }
   ],
   "source": [
    "query = 'SELECT * FROM music_library WHERE year=1970'\n",
    "try:\n",
    "    rows = session.execute(query)\n",
    "    \n",
    "    # Display the result as DataFrame\n",
    "    print(disp_df(rows))\n",
    "    \n",
    "except Exception as e:\n",
    "    print(e)"
   ]
  },
  {
   "cell_type": "markdown",
   "metadata": {},
   "source": [
    "### Validate the Data Model of the Music Library table with WHERE clause = Primary + Clustering Key"
   ]
  },
  {
   "cell_type": "code",
   "execution_count": 92,
   "metadata": {},
   "outputs": [
    {
     "name": "stdout",
     "output_type": "stream",
     "text": [
      "   year month       city         album_name     artist_name\n",
      "0  1970  July  Cleveland  Jai Srimanarayana     Gonugunta's\n",
      "1  1970  July  San Diego       Close To You  The Carpenters\n"
     ]
    }
   ],
   "source": [
    "try:\n",
    "    query = \"SELECT * FROM music_library WHERE year=1970 AND month='July'\"\n",
    "    rows = session.execute(query)\n",
    "    \n",
    "    # Display the result as DataFrame\n",
    "    print(disp_df(rows))\n",
    "    \n",
    "except Exception as e:\n",
    "    print(e)"
   ]
  },
  {
   "cell_type": "markdown",
   "metadata": {},
   "source": [
    "### Validate the Data Model of the Music Library table with WHERE clause = Primary + Clustering Key + Data Column"
   ]
  },
  {
   "cell_type": "code",
   "execution_count": 93,
   "metadata": {},
   "outputs": [
    {
     "name": "stdout",
     "output_type": "stream",
     "text": [
      "Error from server: code=2200 [Invalid query] message=\"Cannot execute this query as it might involve data filtering and thus may have unpredictable performance. If you want to execute this query despite the performance unpredictability, use ALLOW FILTERING\"\n"
     ]
    }
   ],
   "source": [
    "try:\n",
    "    query = \"SELECT * FROM music_library WHERE year=1970 AND month='July' AND album_name='Jai Srimanarayana'\"\n",
    "    rows = session.execute(query)\n",
    "    \n",
    "    # Display the result as DataFrame\n",
    "    print(disp_df(rows))\n",
    "    \n",
    "except Exception as e:\n",
    "    print(e)"
   ]
  },
  {
   "cell_type": "markdown",
   "metadata": {},
   "source": [
    "<div class=\"alert alert-block alert-warning\">\n",
    "    <b> Analysis </b>\n",
    "    <ol>\n",
    "        <li> The SELECT statement's WHERE clause contains has an non-clustering column which is <b>NOT</b> acceptable. </li>\n",
    "        <li> The error is due to using the non-clustering column used and <b>NOT</b> all the clustering columns are used. </li>\n",
    "    </ol>\n",
    "    <b> We would have to take a re-look at our choice of data columns used in WHERE clause </b>\n",
    "</div>"
   ]
  },
  {
   "cell_type": "markdown",
   "metadata": {},
   "source": [
    "### Validate the Data Model of the Music Library table with WHERE clause = Primary + ALL Clustering Key"
   ]
  },
  {
   "cell_type": "code",
   "execution_count": 96,
   "metadata": {},
   "outputs": [
    {
     "name": "stdout",
     "output_type": "stream",
     "text": [
      "   year month       city         album_name  artist_name\n",
      "0  1970  July  Cleveland  Jai Srimanarayana  Gonugunta's\n"
     ]
    }
   ],
   "source": [
    "try:\n",
    "    query = \"SELECT * FROM music_library WHERE year=1970 AND month='July' AND city='Cleveland'\"\n",
    "    rows = session.execute(query)\n",
    "    \n",
    "    # Display the result as DataFrame\n",
    "    print(disp_df(rows))\n",
    "    \n",
    "except Exception as e:\n",
    "    print(e)"
   ]
  },
  {
   "cell_type": "markdown",
   "metadata": {},
   "source": [
    "<div class=\"alert alert-block alert-success\">\n",
    "    <b> Analysis of the Result Set </b>\n",
    "    <ol>\n",
    "    <li> The WHERE clause contains all the Clustering column keys. </li>\n",
    "    <li> The result is in ascending order of the clustering column 'month' and 'city' (if multiple records were available). </li>\n",
    "    </ol>\n",
    "    <b> The Data Model and Analytic Queries look in a better shape now! </b>\n",
    "</div>"
   ]
  },
  {
   "cell_type": "markdown",
   "metadata": {},
   "source": [
    "### DROP THE MUSIC LIBRARY table IF EXISTS"
   ]
  },
  {
   "cell_type": "code",
   "execution_count": 33,
   "metadata": {},
   "outputs": [],
   "source": [
    "dropTable('music_library')"
   ]
  },
  {
   "cell_type": "markdown",
   "metadata": {},
   "source": [
    "### DISPLAY RESULTSET AS DATAFRAME"
   ]
  },
  {
   "cell_type": "code",
   "execution_count": 97,
   "metadata": {},
   "outputs": [],
   "source": [
    "def disp_df(rows):\n",
    "    \n",
    "    # Extract the Columns of the ResultSet\n",
    "    cols = rows.one()._fields\n",
    "    # COnvert rows into list of lists\n",
    "    data = [list(row) for row in rows]\n",
    "    # Convert ResultSet into DataFrame\n",
    "    df = pd.DataFrame(data,columns=cols)\n",
    "    \n",
    "    return df"
   ]
  },
  {
   "cell_type": "markdown",
   "metadata": {},
   "source": [
    "### DROP TABLE FUNCTION"
   ]
  },
  {
   "cell_type": "code",
   "execution_count": 98,
   "metadata": {},
   "outputs": [],
   "source": [
    "# Drop table from the KeySpace\n",
    "def dropTable(table):\n",
    "    try:\n",
    "        query = \"DROP TABLE IF EXISTS \" + table\n",
    "        session.execute(query)\n",
    "        \n",
    "    except Exception as e:\n",
    "        print(e)"
   ]
  },
  {
   "cell_type": "markdown",
   "metadata": {},
   "source": [
    "### Close the Session and Connection"
   ]
  },
  {
   "cell_type": "code",
   "execution_count": 99,
   "metadata": {},
   "outputs": [],
   "source": [
    "session.shutdown()\n",
    "cluster.shutdown()"
   ]
  },
  {
   "cell_type": "code",
   "execution_count": null,
   "metadata": {},
   "outputs": [],
   "source": []
  }
 ],
 "metadata": {
  "kernelspec": {
   "display_name": "Python 3",
   "language": "python",
   "name": "python3"
  },
  "language_info": {
   "codemirror_mode": {
    "name": "ipython",
    "version": 3
   },
   "file_extension": ".py",
   "mimetype": "text/x-python",
   "name": "python",
   "nbconvert_exporter": "python",
   "pygments_lexer": "ipython3",
   "version": "3.7.3"
  }
 },
 "nbformat": 4,
 "nbformat_minor": 2
}
