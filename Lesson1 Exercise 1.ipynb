{
 "cells": [
  {
   "cell_type": "markdown",
   "metadata": {},
   "source": [
    "### DB Functions with POSTGRES\n",
    "\n",
    "![Postgres_logo](postgres_logo.jpg)"
   ]
  },
  {
   "cell_type": "code",
   "execution_count": 1,
   "metadata": {},
   "outputs": [],
   "source": [
    "# Import Library to interface with Postgres DB\n",
    "import psycopg2 as pgres"
   ]
  },
  {
   "cell_type": "code",
   "execution_count": 2,
   "metadata": {},
   "outputs": [],
   "source": [
    "# Connect with the local instance with Postgres\n",
    "conn = pgres.connect(user = \"postgres\", \n",
    "                     password = \"password\",\n",
    "                     host = \"localhost\",\n",
    "                     port = \"5432\",\n",
    "                     database = \"course_data\"\n",
    "                    )\n",
    "\n",
    "# Create a cursor for connection object\n",
    "cursor = conn.cursor()\n",
    "\n",
    "# Query to select all rows of courses column\n",
    "query = \"select * from courses\"\n",
    "\n",
    "# Execute sql query\n",
    "cursor.execute(query)\n",
    "\n",
    "# Fetch all the records\n",
    "records = cursor.fetchall()"
   ]
  },
  {
   "cell_type": "code",
   "execution_count": 3,
   "metadata": {},
   "outputs": [
    {
     "name": "stdout",
     "output_type": "stream",
     "text": [
      "[('CS110', 'Pre Calculus', 4), ('CS180', 'Physics', 4), ('CS107', 'Intro to Psychology', 3), ('CS210', 'Art History', 3), ('CS220', 'US History', 3)]\n"
     ]
    }
   ],
   "source": [
    "print(records)"
   ]
  },
  {
   "cell_type": "code",
   "execution_count": 4,
   "metadata": {},
   "outputs": [],
   "source": [
    "import pandas as pd"
   ]
  },
  {
   "cell_type": "code",
   "execution_count": 9,
   "metadata": {},
   "outputs": [
    {
     "data": {
      "text/html": [
       "<div>\n",
       "<style scoped>\n",
       "    .dataframe tbody tr th:only-of-type {\n",
       "        vertical-align: middle;\n",
       "    }\n",
       "\n",
       "    .dataframe tbody tr th {\n",
       "        vertical-align: top;\n",
       "    }\n",
       "\n",
       "    .dataframe thead th {\n",
       "        text-align: right;\n",
       "    }\n",
       "</style>\n",
       "<table border=\"1\" class=\"dataframe\">\n",
       "  <thead>\n",
       "    <tr style=\"text-align: right;\">\n",
       "      <th></th>\n",
       "      <th>Code</th>\n",
       "      <th>Subject</th>\n",
       "      <th>Credits</th>\n",
       "    </tr>\n",
       "  </thead>\n",
       "  <tbody>\n",
       "    <tr>\n",
       "      <th>0</th>\n",
       "      <td>CS110</td>\n",
       "      <td>Pre Calculus</td>\n",
       "      <td>4</td>\n",
       "    </tr>\n",
       "    <tr>\n",
       "      <th>1</th>\n",
       "      <td>CS180</td>\n",
       "      <td>Physics</td>\n",
       "      <td>4</td>\n",
       "    </tr>\n",
       "    <tr>\n",
       "      <th>2</th>\n",
       "      <td>CS107</td>\n",
       "      <td>Intro to Psychology</td>\n",
       "      <td>3</td>\n",
       "    </tr>\n",
       "    <tr>\n",
       "      <th>3</th>\n",
       "      <td>CS210</td>\n",
       "      <td>Art History</td>\n",
       "      <td>3</td>\n",
       "    </tr>\n",
       "    <tr>\n",
       "      <th>4</th>\n",
       "      <td>CS220</td>\n",
       "      <td>US History</td>\n",
       "      <td>3</td>\n",
       "    </tr>\n",
       "  </tbody>\n",
       "</table>\n",
       "</div>"
      ],
      "text/plain": [
       "    Code              Subject  Credits\n",
       "0  CS110         Pre Calculus        4\n",
       "1  CS180              Physics        4\n",
       "2  CS107  Intro to Psychology        3\n",
       "3  CS210          Art History        3\n",
       "4  CS220           US History        3"
      ]
     },
     "execution_count": 9,
     "metadata": {},
     "output_type": "execute_result"
    }
   ],
   "source": [
    "pd.DataFrame(records,columns=[\"Code\",\"Subject\",\"Credits\"])"
   ]
  },
  {
   "cell_type": "code",
   "execution_count": 6,
   "metadata": {},
   "outputs": [
    {
     "name": "stdout",
     "output_type": "stream",
     "text": [
      "relation \"course\" does not exist\n",
      "LINE 1: select * from course\n",
      "                      ^\n",
      "\n"
     ]
    }
   ],
   "source": [
    "# Check the Try-Except block for executing the SQL query\n",
    "try:\n",
    "    cursor.execute(\"select * from course\")\n",
    "except pgres.Error as e:\n",
    "    print(e)"
   ]
  },
  {
   "cell_type": "code",
   "execution_count": 7,
   "metadata": {},
   "outputs": [
    {
     "name": "stdout",
     "output_type": "stream",
     "text": [
      "The Postgres connection is Closed\n"
     ]
    }
   ],
   "source": [
    "if conn:\n",
    "    cursor.close()\n",
    "    conn.close()\n",
    "    print('The Postgres connection is Closed')"
   ]
  },
  {
   "cell_type": "code",
   "execution_count": null,
   "metadata": {},
   "outputs": [],
   "source": []
  }
 ],
 "metadata": {
  "kernelspec": {
   "display_name": "Python 3",
   "language": "python",
   "name": "python3"
  },
  "language_info": {
   "codemirror_mode": {
    "name": "ipython",
    "version": 3
   },
   "file_extension": ".py",
   "mimetype": "text/x-python",
   "name": "python",
   "nbconvert_exporter": "python",
   "pygments_lexer": "ipython3",
   "version": "3.7.3"
  }
 },
 "nbformat": 4,
 "nbformat_minor": 2
}
